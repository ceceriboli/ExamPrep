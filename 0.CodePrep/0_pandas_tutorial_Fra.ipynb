{
 "cells": [
  {
   "cell_type": "markdown",
   "metadata": {},
   "source": [
    "# Tutorial: DataFrame Preparation and Manipulation with Pandas\n",
    "Pandas is a powerful library in Python for data manipulation and analysis. Central to its functionality is the DataFrame, which is a two-dimensional labeled data structure. In this tutorial, we'll cover some of the most important operations to prepare and manipulate a DataFrame using Pandas.\n",
    "\n",
    "## 1. Installing Pandas\n",
    "If you haven't already installed Pandas, you can do so using pip: pip install pandas\n",
    "## 2. Importing Pandas\n",
    "Before using Pandas, you need to import it into your Python script or notebook:"
   ]
  },
  {
   "cell_type": "code",
   "execution_count": 16,
   "metadata": {},
   "outputs": [],
   "source": [
    "import pandas as pd"
   ]
  },
  {
   "cell_type": "markdown",
   "metadata": {},
   "source": [
    "## 3. Creating a DataFrame\n",
    "You can create a DataFrame from various data sources such as lists, dictionaries, NumPy arrays, CSV files, Excel files, and more. Here's how you can create a DataFrame from a dictionary:"
   ]
  },
  {
   "cell_type": "code",
   "execution_count": 17,
   "metadata": {},
   "outputs": [
    {
     "name": "stdout",
     "output_type": "stream",
     "text": [
      "      Name  Age  Height         City\n",
      "0    Alice   25     5.2     New York\n",
      "1      Bob   30     6.0  Los Angeles\n",
      "2  Charlie   35     5.6      Chicago\n",
      "3    David   40     5.1      Houston\n"
     ]
    }
   ],
   "source": [
    "data = {'Name': ['Alice', 'Bob', 'Charlie', 'David'],\n",
    "        'Age': [25, 30, 35, 40],\n",
    "        'Height': [5.2, 6.0, 5.6, 5.10],\n",
    "        'City': ['New York', 'Los Angeles', 'Chicago', 'Houston']}\n",
    "\n",
    "df = pd.DataFrame(data)\n",
    "print(df)"
   ]
  },
  {
   "cell_type": "markdown",
   "metadata": {},
   "source": [
    "## 4. Basic DataFrame Operations\n",
    "### 4.1. Viewing DataFrame Information\n",
    "You can use info() method to get a concise summary of the DataFrame:"
   ]
  },
  {
   "cell_type": "code",
   "execution_count": 18,
   "metadata": {},
   "outputs": [
    {
     "name": "stdout",
     "output_type": "stream",
     "text": [
      "<class 'pandas.core.frame.DataFrame'>\n",
      "RangeIndex: 4 entries, 0 to 3\n",
      "Data columns (total 4 columns):\n",
      " #   Column  Non-Null Count  Dtype  \n",
      "---  ------  --------------  -----  \n",
      " 0   Name    4 non-null      object \n",
      " 1   Age     4 non-null      int64  \n",
      " 2   Height  4 non-null      float64\n",
      " 3   City    4 non-null      object \n",
      "dtypes: float64(1), int64(1), object(2)\n",
      "memory usage: 256.0+ bytes\n",
      "None\n"
     ]
    }
   ],
   "source": [
    "print(df.info())"
   ]
  },
  {
   "cell_type": "markdown",
   "metadata": {},
   "source": [
    "### 4.2. Viewing DataFrame Head and Tail\n",
    "To view the first few rows of the DataFrame, you can use head() method:"
   ]
  },
  {
   "cell_type": "code",
   "execution_count": 19,
   "metadata": {},
   "outputs": [
    {
     "name": "stdout",
     "output_type": "stream",
     "text": [
      "      Name  Age  Height         City\n",
      "0    Alice   25     5.2     New York\n",
      "1      Bob   30     6.0  Los Angeles\n",
      "2  Charlie   35     5.6      Chicago\n",
      "3    David   40     5.1      Houston\n"
     ]
    }
   ],
   "source": [
    "print(df.head())"
   ]
  },
  {
   "cell_type": "markdown",
   "metadata": {},
   "source": [
    "To view the last few rows, you can use tail() method:"
   ]
  },
  {
   "cell_type": "code",
   "execution_count": 20,
   "metadata": {},
   "outputs": [
    {
     "name": "stdout",
     "output_type": "stream",
     "text": [
      "      Name  Age  Height         City\n",
      "0    Alice   25     5.2     New York\n",
      "1      Bob   30     6.0  Los Angeles\n",
      "2  Charlie   35     5.6      Chicago\n",
      "3    David   40     5.1      Houston\n"
     ]
    }
   ],
   "source": [
    "print(df.tail())"
   ]
  },
  {
   "cell_type": "markdown",
   "metadata": {},
   "source": [
    "## 5. Indexing and Selecting Data\n",
    "### 5.1. Selecting Columns\n",
    "You can select a single column by specifying its name:"
   ]
  },
  {
   "cell_type": "code",
   "execution_count": 21,
   "metadata": {},
   "outputs": [
    {
     "name": "stdout",
     "output_type": "stream",
     "text": [
      "0      Alice\n",
      "1        Bob\n",
      "2    Charlie\n",
      "3      David\n",
      "Name: Name, dtype: object\n"
     ]
    }
   ],
   "source": [
    "print(df['Name'])"
   ]
  },
  {
   "cell_type": "markdown",
   "metadata": {},
   "source": [
    "You can select multiple columns by passing a list of column names:"
   ]
  },
  {
   "cell_type": "code",
   "execution_count": 22,
   "metadata": {},
   "outputs": [
    {
     "name": "stdout",
     "output_type": "stream",
     "text": [
      "      Name  Age\n",
      "0    Alice   25\n",
      "1      Bob   30\n",
      "2  Charlie   35\n",
      "3    David   40\n"
     ]
    }
   ],
   "source": [
    "print(df[['Name', 'Age']])"
   ]
  },
  {
   "cell_type": "markdown",
   "metadata": {},
   "source": [
    "### 5.2. Selecting Rows\n",
    "You can select rows by their index using iloc[] or loc[]:"
   ]
  },
  {
   "cell_type": "code",
   "execution_count": 23,
   "metadata": {},
   "outputs": [
    {
     "name": "stdout",
     "output_type": "stream",
     "text": [
      "Name         Alice\n",
      "Age             25\n",
      "Height         5.2\n",
      "City      New York\n",
      "Name: 0, dtype: object\n",
      "Name              Bob\n",
      "Age                30\n",
      "Height            6.0\n",
      "City      Los Angeles\n",
      "Name: 1, dtype: object\n"
     ]
    }
   ],
   "source": [
    "print(df.iloc[0])  # Select the first row\n",
    "print(df.loc[1])   # Select the row with index 1"
   ]
  },
  {
   "cell_type": "markdown",
   "metadata": {},
   "source": [
    "### 5.3. Conditional Selection\n",
    "You can select rows based on certain conditions:"
   ]
  },
  {
   "cell_type": "code",
   "execution_count": 24,
   "metadata": {},
   "outputs": [
    {
     "name": "stdout",
     "output_type": "stream",
     "text": [
      "      Name  Age  Height     City\n",
      "2  Charlie   35     5.6  Chicago\n",
      "3    David   40     5.1  Houston\n"
     ]
    }
   ],
   "source": [
    "print(df[df['Age'] > 30])  # Select rows where Age is greater than 30"
   ]
  },
  {
   "cell_type": "markdown",
   "metadata": {},
   "source": [
    "## 6. Adding and Removing Columns\n",
    "### 6.1. Adding a Column\n",
    "You can add a new column to the DataFrame:"
   ]
  },
  {
   "cell_type": "code",
   "execution_count": 25,
   "metadata": {},
   "outputs": [
    {
     "name": "stdout",
     "output_type": "stream",
     "text": [
      "      Name  Age  Height         City  Gender\n",
      "0    Alice   25     5.2     New York  Female\n",
      "1      Bob   30     6.0  Los Angeles    Male\n",
      "2  Charlie   35     5.6      Chicago    Male\n",
      "3    David   40     5.1      Houston  Female\n"
     ]
    }
   ],
   "source": [
    "df['Gender'] = ['Female', 'Male', 'Male', 'Female']\n",
    "print(df)"
   ]
  },
  {
   "cell_type": "markdown",
   "metadata": {},
   "source": [
    "### 6.2. Removing a Column\n",
    "You can remove a column using drop() method:"
   ]
  },
  {
   "cell_type": "code",
   "execution_count": 26,
   "metadata": {},
   "outputs": [
    {
     "name": "stdout",
     "output_type": "stream",
     "text": [
      "      Name  Age  Height  Gender\n",
      "0    Alice   25     5.2  Female\n",
      "1      Bob   30     6.0    Male\n",
      "2  Charlie   35     5.6    Male\n",
      "3    David   40     5.1  Female\n"
     ]
    }
   ],
   "source": [
    "df.drop('City', axis=1, inplace=True)\n",
    "print(df)"
   ]
  },
  {
   "cell_type": "markdown",
   "metadata": {},
   "source": [
    "## 7. Data Manipulation\n",
    "### 7.1. Sorting Data\n",
    "You can sort the DataFrame based on one or more columns:"
   ]
  },
  {
   "cell_type": "code",
   "execution_count": 27,
   "metadata": {},
   "outputs": [
    {
     "name": "stdout",
     "output_type": "stream",
     "text": [
      "      Name  Age  Height  Gender\n",
      "0    Alice   25     5.2  Female\n",
      "1      Bob   30     6.0    Male\n",
      "2  Charlie   35     5.6    Male\n",
      "3    David   40     5.1  Female\n"
     ]
    }
   ],
   "source": [
    "print(df.sort_values(by='Age'))  # Sort by Age"
   ]
  },
  {
   "cell_type": "markdown",
   "metadata": {},
   "source": [
    "### 7.2. Grouping Data\n",
    "You can group data based on certain columns and perform operations:"
   ]
  },
  {
   "cell_type": "code",
   "execution_count": 28,
   "metadata": {},
   "outputs": [
    {
     "name": "stdout",
     "output_type": "stream",
     "text": [
      "         Age  Height\n",
      "Gender              \n",
      "Female  32.5    5.15\n",
      "Male    32.5    5.80\n"
     ]
    }
   ],
   "source": [
    "grouped = df.groupby('Gender')\n",
    "print(grouped.mean())  # Calculate mean age by gender"
   ]
  },
  {
   "cell_type": "markdown",
   "metadata": {},
   "source": [
    "## 8. Handling Missing Data\n",
    "### 8.1. Detecting Missing Data\n",
    "You can detect missing data using isnull() or notnull():"
   ]
  },
  {
   "cell_type": "code",
   "execution_count": 29,
   "metadata": {},
   "outputs": [
    {
     "name": "stdout",
     "output_type": "stream",
     "text": [
      "    Name    Age  Height  Gender\n",
      "0  False  False   False   False\n",
      "1  False  False   False   False\n",
      "2  False  False   False   False\n",
      "3  False  False   False   False\n",
      "   Name   Age  Height  Gender\n",
      "0  True  True    True    True\n",
      "1  True  True    True    True\n",
      "2  True  True    True    True\n",
      "3  True  True    True    True\n"
     ]
    }
   ],
   "source": [
    "print(df.isnull())   # True where values are NaN\n",
    "print(df.notnull())  # True where values are not NaN"
   ]
  },
  {
   "cell_type": "markdown",
   "metadata": {},
   "source": [
    "### 8.2. Handling Missing Data\n",
    "You can handle missing data by dropping or filling them:"
   ]
  },
  {
   "cell_type": "code",
   "execution_count": 30,
   "metadata": {},
   "outputs": [
    {
     "name": "stdout",
     "output_type": "stream",
     "text": [
      "      Name  Age  Height  Gender\n",
      "0    Alice   25     5.2  Female\n",
      "1      Bob   30     6.0    Male\n",
      "2  Charlie   35     5.6    Male\n",
      "3    David   40     5.1  Female\n",
      "      Name  Age  Height  Gender\n",
      "0    Alice   25     5.2  Female\n",
      "1      Bob   30     6.0    Male\n",
      "2  Charlie   35     5.6    Male\n",
      "3    David   40     5.1  Female\n"
     ]
    }
   ],
   "source": [
    "print(df.dropna())       # Drop rows with any NaN values\n",
    "print(df.fillna(0))      # Fill NaN values with 0"
   ]
  },
  {
   "cell_type": "markdown",
   "metadata": {},
   "source": [
    "## 9. Grouping Data and Computing Statistics\n",
    "Pandas provides the groupby() method to group data based on one or more columns and perform operations on these groups. This is a powerful feature for analyzing and summarizing data based on different categories.\n",
    "\n",
    "### 9.1. Grouping Data by a Single Column\n",
    "You can group data by a single column using the groupby() method. Here's how you can group data by the 'Gender' column and compute statistics:"
   ]
  },
  {
   "cell_type": "code",
   "execution_count": 31,
   "metadata": {},
   "outputs": [
    {
     "name": "stdout",
     "output_type": "stream",
     "text": [
      "         Age                                                  Height        \\\n",
      "       count  mean        std   min    25%   50%    75%   max  count  mean   \n",
      "Gender                                                                       \n",
      "Female   2.0  32.5  10.606602  25.0  28.75  32.5  36.25  40.0    2.0  5.15   \n",
      "Male     2.0  32.5   3.535534  30.0  31.25  32.5  33.75  35.0    2.0  5.80   \n",
      "\n",
      "                                                \n",
      "             std  min    25%   50%    75%  max  \n",
      "Gender                                          \n",
      "Female  0.070711  5.1  5.125  5.15  5.175  5.2  \n",
      "Male    0.282843  5.6  5.700  5.80  5.900  6.0  \n"
     ]
    }
   ],
   "source": [
    "grouped = df.groupby('Gender')\n",
    "print(grouped.describe())"
   ]
  },
  {
   "cell_type": "markdown",
   "metadata": {},
   "source": [
    "This will produce a summary of statistics for each group."
   ]
  },
  {
   "cell_type": "markdown",
   "metadata": {},
   "source": [
    "\n",
    "### 9.2. Grouping Data by Multiple Columns\n",
    "You can also group data by multiple columns. For example, you can group data by both 'Gender' and 'Age' columns:\n",
    "\n"
   ]
  },
  {
   "cell_type": "code",
   "execution_count": 32,
   "metadata": {},
   "outputs": [
    {
     "name": "stdout",
     "output_type": "stream",
     "text": [
      "            Height\n",
      "Gender Age        \n",
      "Female 25      5.2\n",
      "       40      5.1\n",
      "Male   30      6.0\n",
      "       35      5.6\n"
     ]
    }
   ],
   "source": [
    "grouped = df.groupby(['Gender', 'Age'])\n",
    "print(grouped.mean())"
   ]
  },
  {
   "cell_type": "markdown",
   "metadata": {},
   "source": [
    "\n",
    "This will compute statistics for each combination of gender and age.\n"
   ]
  },
  {
   "cell_type": "markdown",
   "metadata": {},
   "source": [
    "\n",
    "### 9.3. Computing Statistics on Grouped Data\n",
    "Once data is grouped, you can compute various statistics on the groups. For example, you can compute the mean, median, sum, standard deviation, etc. For instance, to compute the mean age for each gender group:\n",
    "\n"
   ]
  },
  {
   "cell_type": "code",
   "execution_count": 33,
   "metadata": {},
   "outputs": [
    {
     "name": "stdout",
     "output_type": "stream",
     "text": [
      "Gender  Age\n",
      "Female  25     25.0\n",
      "        40     40.0\n",
      "Male    30     30.0\n",
      "        35     35.0\n",
      "Name: Age, dtype: float64\n"
     ]
    }
   ],
   "source": [
    "print(grouped['Age'].mean())"
   ]
  },
  {
   "cell_type": "markdown",
   "metadata": {},
   "source": [
    "\n",
    "Or to compute the median height for each gender group:\n",
    "\n"
   ]
  },
  {
   "cell_type": "code",
   "execution_count": 34,
   "metadata": {},
   "outputs": [
    {
     "name": "stdout",
     "output_type": "stream",
     "text": [
      "Gender  Age\n",
      "Female  25     5.2\n",
      "        40     5.1\n",
      "Male    30     6.0\n",
      "        35     5.6\n",
      "Name: Height, dtype: float64\n"
     ]
    }
   ],
   "source": [
    "print(grouped['Height'].median())"
   ]
  },
  {
   "cell_type": "markdown",
   "metadata": {},
   "source": [
    "\n",
    "### 9.4. Accessing Specific Statistics\n",
    "You can access specific statistics for each group using methods such as mean(), median(), sum(), etc. For instance, to access the mean age for each gender group:\n",
    "\n"
   ]
  },
  {
   "cell_type": "code",
   "execution_count": 35,
   "metadata": {},
   "outputs": [
    {
     "name": "stdout",
     "output_type": "stream",
     "text": [
      "Gender  Age\n",
      "Female  25     25.0\n",
      "        40     40.0\n",
      "Male    30     30.0\n",
      "        35     35.0\n",
      "Name: Age, dtype: float64\n"
     ]
    }
   ],
   "source": [
    "print(grouped['Age'].mean())"
   ]
  },
  {
   "cell_type": "markdown",
   "metadata": {},
   "source": [
    "Or to access the median height for each gender group:"
   ]
  },
  {
   "cell_type": "code",
   "execution_count": 36,
   "metadata": {},
   "outputs": [
    {
     "name": "stdout",
     "output_type": "stream",
     "text": [
      "Gender  Age\n",
      "Female  25     5.2\n",
      "        40     5.1\n",
      "Male    30     6.0\n",
      "        35     5.6\n",
      "Name: Height, dtype: float64\n"
     ]
    }
   ],
   "source": [
    "print(grouped['Height'].median())"
   ]
  },
  {
   "cell_type": "markdown",
   "metadata": {},
   "source": [
    "\n",
    "This section provides an overview of how to group data using the `groupby()` method and compute statistics on the grouped data. It demonstrates the flexibility of Pandas for analyzing and summarizing data based on different categories."
   ]
  },
  {
   "cell_type": "markdown",
   "metadata": {},
   "source": [
    "## Apply Function"
   ]
  },
  {
   "cell_type": "code",
   "execution_count": 1,
   "metadata": {},
   "outputs": [
    {
     "name": "stdout",
     "output_type": "stream",
     "text": [
      "   batch  dummy1\n",
      "0      1       0\n",
      "1      4       1\n",
      "2      2       0\n",
      "3      4       1\n",
      "4      3       0\n",
      "5      5       0\n",
      "6      4       1\n",
      "7      1       0\n",
      "8      4       1\n",
      "9      2       0\n"
     ]
    }
   ],
   "source": [
    "import pandas as pd\n",
    "\n",
    "# Load the CSV file\n",
    "df = pd.read_csv('example_dataframe.csv')\n",
    "\n",
    "# Apply the transformation to add the dummy1 column\n",
    "df['dummy1'] = df['batch'].apply(lambda x: 1 if x == 4 else 0)\n",
    "\n",
    "# Display the updated dataframe\n",
    "print(df)"
   ]
  }
 ],
 "metadata": {
  "kernelspec": {
   "display_name": "amai",
   "language": "python",
   "name": "python3"
  },
  "language_info": {
   "codemirror_mode": {
    "name": "ipython",
    "version": 3
   },
   "file_extension": ".py",
   "mimetype": "text/x-python",
   "name": "python",
   "nbconvert_exporter": "python",
   "pygments_lexer": "ipython3",
   "version": "3.7.16"
  }
 },
 "nbformat": 4,
 "nbformat_minor": 2
}
